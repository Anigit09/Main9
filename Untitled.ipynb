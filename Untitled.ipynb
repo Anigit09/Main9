{
 "cells": [
  {
   "cell_type": "code",
   "execution_count": 10,
   "id": "4e359fed-3cb6-445a-baca-caa4e1e6c69c",
   "metadata": {},
   "outputs": [
    {
     "data": {
      "text/plain": [
       "14"
      ]
     },
     "execution_count": 10,
     "metadata": {},
     "output_type": "execute_result"
    }
   ],
   "source": [
    "def add(x):\n",
    "    x+=9 \n",
    "    return x\n",
    "add(5)"
   ]
  },
  {
   "cell_type": "code",
   "execution_count": 15,
   "id": "9cc80660-3850-4071-806c-8e0655305925",
   "metadata": {},
   "outputs": [
    {
     "name": "stdout",
     "output_type": "stream",
     "text": [
      "10\n"
     ]
    }
   ],
   "source": [
    "def ACDC(y): \n",
    "    return (Rating+y) \n",
    "Rating=9 \n",
    "Z=ACDC(1) \n",
    "print(Z)"
   ]
  },
  {
   "cell_type": "code",
   "execution_count": 17,
   "id": "6d7c7b93-d45a-47a0-bd1a-0a605198c20d",
   "metadata": {},
   "outputs": [
    {
     "name": "stdout",
     "output_type": "stream",
     "text": [
      "unable to open and read the file\n"
     ]
    },
    {
     "ename": "NameError",
     "evalue": "name 'getfile' is not defined",
     "output_type": "error",
     "traceback": [
      "\u001b[1;31m---------------------------------------------------------------------------\u001b[0m",
      "\u001b[1;31mNameError\u001b[0m                                 Traceback (most recent call last)",
      "Cell \u001b[1;32mIn[17], line 10\u001b[0m\n\u001b[0;32m      7\u001b[0m     \u001b[38;5;28mprint\u001b[39m(\u001b[38;5;124m\"\u001b[39m\u001b[38;5;124mThe file was written sucessfully\u001b[39m\u001b[38;5;124m\"\u001b[39m) \n\u001b[0;32m      9\u001b[0m \u001b[38;5;28;01mfinally\u001b[39;00m: \n\u001b[1;32m---> 10\u001b[0m     getfile\u001b[38;5;241m.\u001b[39mclose()\n",
      "\u001b[1;31mNameError\u001b[0m: name 'getfile' is not defined"
     ]
    }
   ],
   "source": [
    "try: \n",
    "    getfile=open(\"myfile\",\"r\") \n",
    "    getfile.write(\"My file\") \n",
    "except IOError: \n",
    "    print(\"unable to open and read the file\") \n",
    "else: \n",
    "    print(\"The file was written sucessfully\") \n",
    "\n",
    "finally:\n",
    "    getfile.close() \n"
   ]
  },
  {
   "cell_type": "code",
   "execution_count": 20,
   "id": "ad4e65f0-9ab3-494c-bd94-1e9102e680b0",
   "metadata": {},
   "outputs": [
    {
     "name": "stdout",
     "output_type": "stream",
     "text": [
      "9\n"
     ]
    }
   ],
   "source": [
    "class Circle: \n",
    "    def __init__(self,r): \n",
    "        self.r=r  \n",
    "c=Circle(9) \n",
    "print(c.r)"
   ]
  },
  {
   "cell_type": "code",
   "execution_count": 23,
   "id": "4977b862-01c2-48b1-9e95-b5efbbe00c76",
   "metadata": {},
   "outputs": [
    {
     "name": "stdout",
     "output_type": "stream",
     "text": [
      "81\n"
     ]
    }
   ],
   "source": [
    "class Circle: \n",
    "    def __init__(self,r): \n",
    "        self.r=r \n",
    "    def Square(self): \n",
    "        self.r*=self.r \n",
    "        return self.r \n",
    "c1=Circle(9)\n",
    "c1.Square()\n",
    "print(c1.r)"
   ]
  },
  {
   "cell_type": "code",
   "execution_count": 42,
   "id": "1d785205-fdd6-4423-a0fb-4e453dc14c3f",
   "metadata": {},
   "outputs": [
    {
     "name": "stdout",
     "output_type": "stream",
     "text": [
      "this is line 1\n",
      "\n",
      "this is line 2\n",
      "\n",
      "this \n"
     ]
    }
   ],
   "source": [
    "with open(\"examples/Example1.txt\",\"r\") as fp: \n",
    "    content=fp.readline() \n",
    "    print(content)\n",
    "    content=fp.readline() \n",
    "    print(content)\n",
    "    content=fp.readline(5)  \n",
    "    print(content) "
   ]
  },
  {
   "cell_type": "code",
   "execution_count": 43,
   "id": "dae8624c-7352-4902-b2c5-89594d216448",
   "metadata": {},
   "outputs": [
    {
     "name": "stdout",
     "output_type": "stream",
     "text": [
      "['Hey']\n"
     ]
    }
   ],
   "source": [
    "with open(\"examples/Example1.txt\",\"w\") as f1: \n",
    "                  f1.write(\"Hey\") #writing will overwrite the file with the new passed content  \n",
    "with open(\"examples/Example1.txt\",\"r\") as f2: \n",
    "                  content=f2.readlines() #wills store lines in the form of list \n",
    "print(content) #[“Hey”] is printed \n"
   ]
  },
  {
   "cell_type": "code",
   "execution_count": 45,
   "id": "db9bdbad-4dcb-48ee-8a9d-62d628c713e2",
   "metadata": {},
   "outputs": [],
   "source": [
    "lines=[\"This is line 1\\n\",\"This is line 2\\n\",\"This is line3\\n\"] \n",
    "with open(\"examples/Example1.txt\",\"w\") as f3: \n",
    "    for line in lines: \n",
    "        f3.write(line) #writes it line by line "
   ]
  },
  {
   "cell_type": "code",
   "execution_count": 47,
   "id": "7f5a49bc-6d74-4d39-92ec-898a36bcfa16",
   "metadata": {},
   "outputs": [
    {
     "name": "stdout",
     "output_type": "stream",
     "text": [
      "This is line 1\n",
      "This is line 2\n",
      "This is line3\n",
      "This is line E\n",
      "\n"
     ]
    }
   ],
   "source": [
    "with open('examples/Example1.txt', 'a+') as testwritefile: \n",
    "    testwritefile.write(\"This is line E\\n\") \n",
    "    testwritefile.seek(0)  # Move file pointer to the beginning \n",
    "    print(testwritefile.read())  # Now it will read the whole file "
   ]
  },
  {
   "cell_type": "code",
   "execution_count": 51,
   "id": "24f7a87c-fa82-4e0f-a007-332246aaa78a",
   "metadata": {},
   "outputs": [
    {
     "name": "stdout",
     "output_type": "stream",
     "text": [
      "Initial Location: 63\n",
      "Read nothing\n"
     ]
    }
   ],
   "source": [
    "with open('examples/Example1.txt', 'a+') as testwritefile: \n",
    "    print(\"Initial Location: {}\".format(testwritefile.tell())) \n",
    "    data = testwritefile.read() #reads nothing  \n",
    "    if (not data):  #empty strings return false in python \n",
    "        print('Read nothing')  \n",
    "    else:  \n",
    "        print(testwritefile.read())"
   ]
  },
  {
   "cell_type": "code",
   "execution_count": 52,
   "id": "6c0d2e69-bfd6-4a81-bf11-794782b88b76",
   "metadata": {},
   "outputs": [],
   "source": [
    "from random import randint as rnd \n",
    "\n",
    "  \n",
    "\n",
    "memReg = 'examples/members.txt' \n",
    "\n",
    "exReg = 'examples/inactive.txt' \n",
    "\n",
    "fee =('yes','no') \n",
    "\n",
    "  \n",
    "\n",
    "def genFiles(current,old): \n",
    "\n",
    "    with open(current,'w+') as writefile:  \n",
    "\n",
    "        writefile.write('Membership No  Date Joined  Active  \\n') \n",
    "\n",
    "        data = \"{:^13}  {:<11}  {:<6}\\n\" #this is an optional line to format the data  \n",
    "\n",
    "  \n",
    "\n",
    "        for rowno in range(20): #generates it 20 times instead of rowno we can use i \n",
    "\n",
    "            date = str(rnd(2015,2020))+ '-' + str(rnd(1,12))+'-'+str(rnd(1,25)) \n",
    "\n",
    "            writefile.write(data.format(rnd(10000,99999),date,fee[rnd(0,1)])) #membership 5 digit random \n",
    "\n",
    "  \n",
    "\n",
    "  \n",
    "\n",
    "    with open(old,'w+') as writefile:  \n",
    "\n",
    "        writefile.write('Membership No  Date Joined  Active  \\n') \n",
    "\n",
    "        data = \"{:^13}  {:<11}  {:<6}\\n\" \n",
    "\n",
    "        for rowno in range(3): \n",
    "\n",
    "            date = str(rnd(2015,2020))+ '-' + str(rnd(1,12))+'-'+str(rnd(1,25)) \n",
    "\n",
    "            writefile.write(data.format(rnd(10000,99999),date,fee[1])) \n",
    "\n",
    "  \n",
    "\n",
    "  \n",
    "\n",
    "genFiles(memReg,exReg) "
   ]
  },
  {
   "cell_type": "code",
   "execution_count": 54,
   "id": "21383770-d23f-48db-8d42-4a6ea3f67a43",
   "metadata": {},
   "outputs": [
    {
     "data": {
      "text/plain": [
       "0    1\n",
       "1    3\n",
       "2    5\n",
       "3    7\n",
       "4    9\n",
       "dtype: int64"
      ]
     },
     "execution_count": 54,
     "metadata": {},
     "output_type": "execute_result"
    }
   ],
   "source": [
    "import pandas as pd \n",
    "arr=[1,3,5,7,9] \n",
    "s=pd.Series(arr) \n",
    "s"
   ]
  },
  {
   "cell_type": "code",
   "execution_count": 63,
   "id": "924b83cf-d65c-47e9-8a3c-55501da76239",
   "metadata": {},
   "outputs": [
    {
     "data": {
      "text/html": [
       "<div>\n",
       "<style scoped>\n",
       "    .dataframe tbody tr th:only-of-type {\n",
       "        vertical-align: middle;\n",
       "    }\n",
       "\n",
       "    .dataframe tbody tr th {\n",
       "        vertical-align: top;\n",
       "    }\n",
       "\n",
       "    .dataframe thead th {\n",
       "        text-align: right;\n",
       "    }\n",
       "</style>\n",
       "<table border=\"1\" class=\"dataframe\">\n",
       "  <thead>\n",
       "    <tr style=\"text-align: right;\">\n",
       "      <th></th>\n",
       "      <th>foods</th>\n",
       "      <th>health</th>\n",
       "    </tr>\n",
       "  </thead>\n",
       "  <tbody>\n",
       "    <tr>\n",
       "      <th>0</th>\n",
       "      <td>chips</td>\n",
       "      <td>junk</td>\n",
       "    </tr>\n",
       "    <tr>\n",
       "      <th>1</th>\n",
       "      <td>cookies</td>\n",
       "      <td>junk</td>\n",
       "    </tr>\n",
       "    <tr>\n",
       "      <th>2</th>\n",
       "      <td>coke</td>\n",
       "      <td>junk</td>\n",
       "    </tr>\n",
       "    <tr>\n",
       "      <th>3</th>\n",
       "      <td>apples</td>\n",
       "      <td>healthy</td>\n",
       "    </tr>\n",
       "    <tr>\n",
       "      <th>4</th>\n",
       "      <td>jaggery</td>\n",
       "      <td>healthy</td>\n",
       "    </tr>\n",
       "    <tr>\n",
       "      <th>5</th>\n",
       "      <td>milk</td>\n",
       "      <td>healthy</td>\n",
       "    </tr>\n",
       "  </tbody>\n",
       "</table>\n",
       "</div>"
      ],
      "text/plain": [
       "     foods   health\n",
       "0    chips     junk\n",
       "1  cookies     junk\n",
       "2     coke     junk\n",
       "3   apples  healthy\n",
       "4  jaggery  healthy\n",
       "5     milk  healthy"
      ]
     },
     "execution_count": 63,
     "metadata": {},
     "output_type": "execute_result"
    }
   ],
   "source": [
    "import pandas as pd \n",
    "df=pd.DataFrame({\"foods\":[\"chips\",\"cookies\",\"coke\",\"apples\",\"jaggery\",\"milk\"] \n",
    ",\"health\":[\"junk\",\"junk\",\"junk\",\"healthy\",\"healthy\",\"healthy\"]})\n",
    "df #prints the data in the form of a data frame \n"
   ]
  },
  {
   "cell_type": "code",
   "execution_count": 66,
   "id": "e00064f6-19c9-44b7-afd0-970c8982b3bb",
   "metadata": {},
   "outputs": [
    {
     "data": {
      "text/html": [
       "<div>\n",
       "<style scoped>\n",
       "    .dataframe tbody tr th:only-of-type {\n",
       "        vertical-align: middle;\n",
       "    }\n",
       "\n",
       "    .dataframe tbody tr th {\n",
       "        vertical-align: top;\n",
       "    }\n",
       "\n",
       "    .dataframe thead th {\n",
       "        text-align: right;\n",
       "    }\n",
       "</style>\n",
       "<table border=\"1\" class=\"dataframe\">\n",
       "  <thead>\n",
       "    <tr style=\"text-align: right;\">\n",
       "      <th></th>\n",
       "      <th>a</th>\n",
       "      <th>b</th>\n",
       "      <th>c</th>\n",
       "      <th>d</th>\n",
       "    </tr>\n",
       "  </thead>\n",
       "  <tbody>\n",
       "    <tr>\n",
       "      <th>a</th>\n",
       "      <td>b</td>\n",
       "      <td>c</td>\n",
       "      <td>d</td>\n",
       "      <td>message</td>\n",
       "    </tr>\n",
       "    <tr>\n",
       "      <th>1</th>\n",
       "      <td>2</td>\n",
       "      <td>3</td>\n",
       "      <td>4</td>\n",
       "      <td>hello</td>\n",
       "    </tr>\n",
       "    <tr>\n",
       "      <th>5</th>\n",
       "      <td>6</td>\n",
       "      <td>7</td>\n",
       "      <td>8</td>\n",
       "      <td>world</td>\n",
       "    </tr>\n",
       "    <tr>\n",
       "      <th>9</th>\n",
       "      <td>10</td>\n",
       "      <td>11</td>\n",
       "      <td>12</td>\n",
       "      <td>foo</td>\n",
       "    </tr>\n",
       "  </tbody>\n",
       "</table>\n",
       "</div>"
      ],
      "text/plain": [
       "    a   b   c        d\n",
       "a   b   c   d  message\n",
       "1   2   3   4    hello\n",
       "5   6   7   8    world\n",
       "9  10  11  12      foo"
      ]
     },
     "execution_count": 66,
     "metadata": {},
     "output_type": "execute_result"
    }
   ],
   "source": [
    "import pandas as pd \n",
    "df1=pd.read_csv(\"examples/ex1.csv\" , header=None , names=[\"a\",\"b\",\"c\",\"d\"])  \n",
    "df1"
   ]
  },
  {
   "cell_type": "code",
   "execution_count": 69,
   "id": "75671a7e-9365-44b8-9c38-a23722278287",
   "metadata": {},
   "outputs": [
    {
     "data": {
      "text/html": [
       "<div>\n",
       "<style scoped>\n",
       "    .dataframe tbody tr th:only-of-type {\n",
       "        vertical-align: middle;\n",
       "    }\n",
       "\n",
       "    .dataframe tbody tr th {\n",
       "        vertical-align: top;\n",
       "    }\n",
       "\n",
       "    .dataframe thead th {\n",
       "        text-align: right;\n",
       "    }\n",
       "</style>\n",
       "<table border=\"1\" class=\"dataframe\">\n",
       "  <thead>\n",
       "    <tr style=\"text-align: right;\">\n",
       "      <th></th>\n",
       "      <th>1</th>\n",
       "      <th>2</th>\n",
       "      <th>3</th>\n",
       "    </tr>\n",
       "  </thead>\n",
       "  <tbody>\n",
       "    <tr>\n",
       "      <th>0</th>\n",
       "      <td>5</td>\n",
       "      <td>6</td>\n",
       "      <td>7</td>\n",
       "    </tr>\n",
       "    <tr>\n",
       "      <th>1</th>\n",
       "      <td>9</td>\n",
       "      <td>10</td>\n",
       "      <td>11</td>\n",
       "    </tr>\n",
       "  </tbody>\n",
       "</table>\n",
       "</div>"
      ],
      "text/plain": [
       "   1   2   3\n",
       "0  5   6   7\n",
       "1  9  10  11"
      ]
     },
     "execution_count": 69,
     "metadata": {},
     "output_type": "execute_result"
    }
   ],
   "source": [
    "df2=pd.read_csv(\"examples/ex2.csv\") #will change the index  \n",
    "#suppose in this file i want to acess a particular range of indexes into another #dataframe then we will do as follows \n",
    "df3=df2.iloc[0:2,0:3]\n",
    "df3\n"
   ]
  },
  {
   "cell_type": "code",
   "execution_count": 71,
   "id": "e9522ad2-2d51-4df5-adb3-3ef4cbd12b26",
   "metadata": {},
   "outputs": [
    {
     "name": "stdout",
     "output_type": "stream",
     "text": [
      "1\n",
      "(4,)\n",
      "4\n",
      "[1 4]\n",
      "9\n",
      "4.75\n"
     ]
    }
   ],
   "source": [
    "import numpy as np\n",
    "a=np.array([1,4,5,9]) \n",
    "print(a.ndim) #prints the dimension of array in this case 1 \n",
    "print(a.shape) #prints the size of array in tuple ex:- for a 2-d array is (3,3) \n",
    "print(a.size) #prints the no.of elements  \n",
    "print(a[0:2]) #prints 1st and 2nd elements \n",
    "print(a.max()) #prints the maximum value of array \n",
    "print(a.mean()) #prints the mean of all numbers \n"
   ]
  },
  {
   "cell_type": "code",
   "execution_count": 73,
   "id": "a605f59a-36fb-4a64-a39a-a90fa9f5f962",
   "metadata": {},
   "outputs": [
    {
     "data": {
      "text/plain": [
       "array([4, 6])"
      ]
     },
     "execution_count": 73,
     "metadata": {},
     "output_type": "execute_result"
    }
   ],
   "source": [
    "u=np.array([1,2]) \n",
    "v=np.array([3,4]) \n",
    "z=u+v #output is [4,6] \n",
    "z"
   ]
  },
  {
   "cell_type": "code",
   "execution_count": 74,
   "id": "2c8b7f42-88a6-47b0-90bd-0bd773ee5305",
   "metadata": {},
   "outputs": [
    {
     "data": {
      "text/plain": [
       "11"
      ]
     },
     "execution_count": 74,
     "metadata": {},
     "output_type": "execute_result"
    }
   ],
   "source": [
    "z=u*v #output is [3,8] \n",
    "z=np.dot(u,v) #dot product of u and v \n",
    "z"
   ]
  },
  {
   "cell_type": "code",
   "execution_count": 75,
   "id": "5006d28e-238d-4e38-af4c-0cd29257ecab",
   "metadata": {},
   "outputs": [
    {
     "name": "stdout",
     "output_type": "stream",
     "text": [
      "2\n",
      "(3, 3)\n",
      "9\n",
      "[[11 13 15]\n",
      " [17 19 21]\n",
      " [23 25 27]]\n",
      "[[ 10  22  36]\n",
      " [ 52  70  90]\n",
      " [112 136 162]]\n",
      "[[ 84  90  96]\n",
      " [201 216 231]\n",
      " [318 342 366]]\n"
     ]
    }
   ],
   "source": [
    "import numpy as np\n",
    "a=np.array([[1,2,3],[4,5,6],[7,8,9]]) #the number of starting and ending brackets #denotes the dimension of the array (note mathematical dimensions=shape of array) \n",
    "b=np.array([[10,11,12],[13,14,15],[16,17,18]]) \n",
    "\n",
    "print(a.ndim) #output will be 2 \n",
    "print(a.shape) #output will be (3,3) \n",
    "print(a.size) #output will be 9 \n",
    "print(a+b) #adds each element with the corresponding \n",
    "print(a*b) #hadamard product \n",
    "print(np.dot(a,b)) #matrix multiplication"
   ]
  },
  {
   "cell_type": "code",
   "execution_count": 79,
   "id": "cd4164fa-1988-4df9-9813-33403324661c",
   "metadata": {},
   "outputs": [
    {
     "name": "stdout",
     "output_type": "stream",
     "text": [
      "Requirement already satisfied: pycoingecko in c:\\users\\umasa\\anaconda3\\lib\\site-packages (3.2.0)\n",
      "Requirement already satisfied: requests in c:\\users\\umasa\\anaconda3\\lib\\site-packages (from pycoingecko) (2.32.3)\n",
      "Requirement already satisfied: charset-normalizer<4,>=2 in c:\\users\\umasa\\anaconda3\\lib\\site-packages (from requests->pycoingecko) (3.3.2)\n",
      "Requirement already satisfied: idna<4,>=2.5 in c:\\users\\umasa\\anaconda3\\lib\\site-packages (from requests->pycoingecko) (3.7)\n",
      "Requirement already satisfied: urllib3<3,>=1.21.1 in c:\\users\\umasa\\anaconda3\\lib\\site-packages (from requests->pycoingecko) (2.2.3)\n",
      "Requirement already satisfied: certifi>=2017.4.17 in c:\\users\\umasa\\anaconda3\\lib\\site-packages (from requests->pycoingecko) (2024.12.14)\n"
     ]
    },
    {
     "ename": "ImportError",
     "evalue": "cannot import name 'coingeckoapi' from 'pycoingecko' (C:\\Users\\umasa\\anaconda3\\Lib\\site-packages\\pycoingecko\\__init__.py)",
     "output_type": "error",
     "traceback": [
      "\u001b[1;31m---------------------------------------------------------------------------\u001b[0m",
      "\u001b[1;31mImportError\u001b[0m                               Traceback (most recent call last)",
      "Cell \u001b[1;32mIn[79], line 2\u001b[0m\n\u001b[0;32m      1\u001b[0m get_ipython()\u001b[38;5;241m.\u001b[39msystem(\u001b[38;5;124m'\u001b[39m\u001b[38;5;124mpip install pycoingecko\u001b[39m\u001b[38;5;124m'\u001b[39m)\n\u001b[1;32m----> 2\u001b[0m \u001b[38;5;28;01mfrom\u001b[39;00m \u001b[38;5;21;01mpycoingecko\u001b[39;00m \u001b[38;5;28;01mimport\u001b[39;00m coingeckoapi \n\u001b[0;32m      3\u001b[0m \u001b[38;5;28;01mimport\u001b[39;00m \u001b[38;5;21;01mpandas\u001b[39;00m \u001b[38;5;28;01mas\u001b[39;00m \u001b[38;5;21;01mpd\u001b[39;00m \n\u001b[0;32m      4\u001b[0m cg\u001b[38;5;241m=\u001b[39mCoinGeckoApi() \u001b[38;5;66;03m#to create a client object here assume the api to be a class  \u001b[39;00m\n",
      "\u001b[1;31mImportError\u001b[0m: cannot import name 'coingeckoapi' from 'pycoingecko' (C:\\Users\\umasa\\anaconda3\\Lib\\site-packages\\pycoingecko\\__init__.py)"
     ]
    }
   ],
   "source": [
    "!pip install pycoingecko \n",
    "from pycoingecko import coingeckoapi \n",
    "import pandas as pd \n",
    "cg=CoinGeckoApi() #to create a client object here assume the api to be a class  \n",
    "bitcoin_data=cg.get_coin_market_chart_by_id(id=\"bitcoin\",vs_currency=\"inr\",days=30) #.get is used in dictonaries to get values associated with a key here json files are like #dictionaries \n",
    "'''response would a json file with dictonary like setup having multiple data like price,marketcap etc......  but we are only concerned with the price'''\n",
    "data=pd.DataFrame(bitcoin_data[\"prices\"],columns=[\"Timestamp\",\"Price\"]) \n",
    "#we will convert the timestamp into date and time format using a pandas method \n",
    "data[\"Date\"]=pd.to_datetime(data[\"TimeStamp\"], unit=\"ms\") \n",
    "data"
   ]
  },
  {
   "cell_type": "code",
   "execution_count": null,
   "id": "fe87de24-65c8-4346-90cc-9f2efbf74bfe",
   "metadata": {},
   "outputs": [],
   "source": []
  }
 ],
 "metadata": {
  "kernelspec": {
   "display_name": "Python 3 (ipykernel)",
   "language": "python",
   "name": "python3"
  },
  "language_info": {
   "codemirror_mode": {
    "name": "ipython",
    "version": 3
   },
   "file_extension": ".py",
   "mimetype": "text/x-python",
   "name": "python",
   "nbconvert_exporter": "python",
   "pygments_lexer": "ipython3",
   "version": "3.12.7"
  }
 },
 "nbformat": 4,
 "nbformat_minor": 5
}
