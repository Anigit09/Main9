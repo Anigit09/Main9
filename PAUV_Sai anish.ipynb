{
 "cells": [
  {
   "cell_type": "code",
   "execution_count": 5,
   "id": "fc625893-0067-44e8-b0d2-561f0abc423e",
   "metadata": {},
   "outputs": [
    {
     "data": {
      "text/plain": [
       "17"
      ]
     },
     "execution_count": 5,
     "metadata": {},
     "output_type": "execute_result"
    }
   ],
   "source": [
    "x=3+2*2       \n",
    "\n",
    "x #prints the value of x \n",
    "y=(3+2)*2  \n",
    "y \n",
    "z=x+y \n",
    "\n",
    "z #gives output 7+10=17 "
   ]
  },
  {
   "cell_type": "code",
   "execution_count": 9,
   "id": "4509c600-2905-4fe7-9f7e-5e54bb7c030a",
   "metadata": {},
   "outputs": [
    {
     "data": {
      "text/plain": [
       "'Micheal Jacksonis the best'"
      ]
     },
     "execution_count": 9,
     "metadata": {},
     "output_type": "execute_result"
    }
   ],
   "source": [
    "str2=\"Micheal Jackson\"\n",
    "str3=\"is the best\"\n",
    "str2+str3"
   ]
  },
  {
   "cell_type": "code",
   "execution_count": 12,
   "id": "34e6d79a-1fb6-48aa-8cd3-ff9629f68eab",
   "metadata": {},
   "outputs": [
    {
     "name": "stdout",
     "output_type": "stream",
     "text": [
      "Hello \\ world\n",
      "Hello \\ world\n"
     ]
    }
   ],
   "source": [
    "print(\"Hello \\\\ world\")\n",
    "print(r\"Hello \\ world\") "
   ]
  },
  {
   "cell_type": "code",
   "execution_count": 13,
   "id": "6a129baa-f562-471c-bd72-cdb6610250c8",
   "metadata": {},
   "outputs": [
    {
     "data": {
      "text/plain": [
       "'The Janet is the best album'"
      ]
     },
     "execution_count": 13,
     "metadata": {},
     "output_type": "execute_result"
    }
   ],
   "source": [
    "a = \"The BodyGuard is the best album\" \n",
    "\n",
    "b = a.replace('BodyGuard', 'Janet') \n",
    "\n",
    "b "
   ]
  },
  {
   "cell_type": "code",
   "execution_count": 14,
   "id": "6633230f-0b71-46ba-b2d4-9b4881e8090c",
   "metadata": {},
   "outputs": [
    {
     "data": {
      "text/plain": [
       "['The', 'BodyGuard']"
      ]
     },
     "execution_count": 14,
     "metadata": {},
     "output_type": "execute_result"
    }
   ],
   "source": [
    "#Split the substring into list \n",
    "\n",
    "name = \"The BodyGuard\" \n",
    "\n",
    "split_string = (name.split()) \n",
    "\n",
    "split_string "
   ]
  },
  {
   "cell_type": "code",
   "execution_count": 18,
   "id": "e5bf7ed5-c59c-49cb-878c-6534e8e46089",
   "metadata": {},
   "outputs": [
    {
     "data": {
      "text/plain": [
       "96"
      ]
     },
     "execution_count": 18,
     "metadata": {},
     "output_type": "execute_result"
    }
   ],
   "source": [
    "g = \"Mary had a little lamb Little lamb, little lamb Mary had a little lamb  Its fleece was white as snow And everywhere that Mary went Mary went, Mary went Everywhere that Mary went The lamb was sure to go\" \n",
    "g.find(\"snow\") "
   ]
  },
  {
   "cell_type": "code",
   "execution_count": 19,
   "id": "1d1af5cd-5bb2-4d45-adb9-9998d08e2ff6",
   "metadata": {},
   "outputs": [
    {
     "data": {
      "text/plain": [
       "'Bob had a little lamb Little lamb, little lamb Bob had a little lamb  Its fleece was white as snow And everywhere that Bob went Bob went, Bob went Everywhere that Bob went The lamb was sure to go'"
      ]
     },
     "execution_count": 19,
     "metadata": {},
     "output_type": "execute_result"
    }
   ],
   "source": [
    "g.replace(\"Mary\",\"Bob\")"
   ]
  },
  {
   "cell_type": "code",
   "execution_count": 20,
   "id": "53ee9cbe-27ed-4533-856a-cf77299c68d7",
   "metadata": {},
   "outputs": [
    {
     "data": {
      "text/plain": [
       "['Mary',\n",
       " 'had',\n",
       " 'a',\n",
       " 'little',\n",
       " 'lamb',\n",
       " 'Little',\n",
       " 'lamb,',\n",
       " 'little',\n",
       " 'lamb',\n",
       " 'Mary',\n",
       " 'had',\n",
       " 'a',\n",
       " 'little',\n",
       " 'lamb',\n",
       " 'Its',\n",
       " 'fleece',\n",
       " 'was',\n",
       " 'white',\n",
       " 'as',\n",
       " 'snow',\n",
       " 'And',\n",
       " 'everywhere',\n",
       " 'that',\n",
       " 'Mary',\n",
       " 'went',\n",
       " 'Mary',\n",
       " 'went,',\n",
       " 'Mary',\n",
       " 'went',\n",
       " 'Everywhere',\n",
       " 'that',\n",
       " 'Mary',\n",
       " 'went',\n",
       " 'The',\n",
       " 'lamb',\n",
       " 'was',\n",
       " 'sure',\n",
       " 'to',\n",
       " 'go']"
      ]
     },
     "execution_count": 20,
     "metadata": {},
     "output_type": "execute_result"
    }
   ],
   "source": [
    "list=g.split() \n",
    "\n",
    "list "
   ]
  },
  {
   "cell_type": "code",
   "execution_count": 21,
   "id": "524a1fad-54ac-46ec-add4-633774bbb395",
   "metadata": {},
   "outputs": [
    {
     "name": "stdout",
     "output_type": "stream",
     "text": [
      "digit found\n"
     ]
    }
   ],
   "source": [
    "import re \n",
    "\n",
    "s3 = \"House number- 1105\" \n",
    "\n",
    "result=re.search(r\"\\d\",s3) \n",
    "\n",
    "if result: \n",
    "\n",
    "    print(\"digit found\") \n",
    "\n",
    "else: \n",
    "\n",
    "    print(\"digit not found\") "
   ]
  },
  {
   "cell_type": "code",
   "execution_count": 22,
   "id": "5f2fa5df-96ab-470f-85fc-9470400484bf",
   "metadata": {},
   "outputs": [
    {
     "data": {
      "text/plain": [
       "['woo', 'woo', 'woo', 'woo']"
      ]
     },
     "execution_count": 22,
     "metadata": {},
     "output_type": "execute_result"
    }
   ],
   "source": [
    "import re \n",
    "\n",
    "str2= \"How much wood would a woodchuck chuck, if a woodchuck could chuck wood?\" \n",
    "\n",
    "re.findall(\"woo\",str2) "
   ]
  },
  {
   "cell_type": "code",
   "execution_count": 24,
   "id": "b5ead077-5dcf-4480-95f2-c783cd79e13a",
   "metadata": {},
   "outputs": [
    {
     "ename": "TypeError",
     "evalue": "'tuple' object does not support item assignment",
     "output_type": "error",
     "traceback": [
      "\u001b[1;31m---------------------------------------------------------------------------\u001b[0m",
      "\u001b[1;31mTypeError\u001b[0m                                 Traceback (most recent call last)",
      "Cell \u001b[1;32mIn[24], line 3\u001b[0m\n\u001b[0;32m      1\u001b[0m \u001b[38;5;28mtuple\u001b[39m\u001b[38;5;241m=\u001b[39m(\u001b[38;5;241m9\u001b[39m,\u001b[38;5;241m0\u001b[39m,(\u001b[38;5;124m\"\u001b[39m\u001b[38;5;124mget\u001b[39m\u001b[38;5;124m\"\u001b[39m,\u001b[38;5;241m7\u001b[39m)) \n\u001b[1;32m----> 3\u001b[0m \u001b[38;5;28mtuple\u001b[39m[\u001b[38;5;241m0\u001b[39m]\u001b[38;5;241m=\u001b[39m\u001b[38;5;241m1\u001b[39m\n",
      "\u001b[1;31mTypeError\u001b[0m: 'tuple' object does not support item assignment"
     ]
    }
   ],
   "source": [
    "tuple=(9,0,(\"get\",7)) \n",
    "\n",
    "tuple[0]=1"
   ]
  },
  {
   "cell_type": "code",
   "execution_count": 27,
   "id": "eedda30e-82f2-47e4-b4b4-3645965962fa",
   "metadata": {},
   "outputs": [
    {
     "name": "stdout",
     "output_type": "stream",
     "text": [
      "[0, 3, 5, [7, 0, 9], 'hey'] [0, 3, 5, [7, 0, 9], 'hey']\n"
     ]
    }
   ],
   "source": [
    "A=[1,3,5,[7,0,9],\"hey\"]  \n",
    "\n",
    "B=A \n",
    "\n",
    "B[0]=0 \n",
    "\n",
    "print(A , B)"
   ]
  },
  {
   "cell_type": "code",
   "execution_count": 28,
   "id": "ee8d03ef-9e7d-44b2-9ff4-862013808005",
   "metadata": {},
   "outputs": [
    {
     "data": {
      "text/plain": [
       "[0, 1, 3, 4, 7, 9]"
      ]
     },
     "execution_count": 28,
     "metadata": {},
     "output_type": "execute_result"
    }
   ],
   "source": [
    "tuple=(4,0,9,3,7,1) \n",
    "\n",
    "Tuple=sorted(tuple) #output is (0,1,3,4,7,9)\n",
    "Tuple"
   ]
  },
  {
   "cell_type": "code",
   "execution_count": 31,
   "id": "a3f54d2b-ad5f-4cb8-955f-bf9fa8098460",
   "metadata": {},
   "outputs": [
    {
     "name": "stdout",
     "output_type": "stream",
     "text": [
      "(0, 5)\n"
     ]
    }
   ],
   "source": [
    "arr=[\"micheal\",\"jhon\",1,3,(0,5)] \n",
    "\n",
    "print(arr[4])"
   ]
  },
  {
   "cell_type": "code",
   "execution_count": 32,
   "id": "a80aedd9-801f-473c-b849-62fe4a421440",
   "metadata": {},
   "outputs": [
    {
     "name": "stdout",
     "output_type": "stream",
     "text": [
      "5\n",
      "a\n"
     ]
    }
   ],
   "source": [
    "print(arr[4][1]) #the output will be 5\n",
    "\n",
    "print(arr[0][5]) "
   ]
  },
  {
   "cell_type": "code",
   "execution_count": 38,
   "id": "e3d2408a-5619-4d66-a50c-6ec8f4e0a08d",
   "metadata": {},
   "outputs": [
    {
     "name": "stdout",
     "output_type": "stream",
     "text": [
      "('ROCK', 'and', 'ROLL', 'party')\n"
     ]
    }
   ],
   "source": [
    "tuple0=(\"ROCK\",\"and\") \n",
    "\n",
    "tuple1=(\"ROLL\",\"party\")\n",
    "\n",
    "print(tuple0+tuple1)"
   ]
  },
  {
   "cell_type": "code",
   "execution_count": 42,
   "id": "24b018a6-a44e-48ca-bb58-ce11871c3eaa",
   "metadata": {},
   "outputs": [
    {
     "data": {
      "text/plain": [
       "['a', 'b', 'c', 'd', 'e']"
      ]
     },
     "execution_count": 42,
     "metadata": {},
     "output_type": "execute_result"
    }
   ],
   "source": [
    "a=[\"a\",\"b\",\"c\",\"d\"] \n",
    "\n",
    "a.extend(\"e\")\n",
    "a"
   ]
  },
  {
   "cell_type": "code",
   "execution_count": 44,
   "id": "68174033-cf4a-4c15-b0ce-a856ec15bd33",
   "metadata": {},
   "outputs": [
    {
     "data": {
      "text/plain": [
       "'boolean'"
      ]
     },
     "execution_count": 44,
     "metadata": {},
     "output_type": "execute_result"
    }
   ],
   "source": [
    "d1={\"a\":\"letter\",1:\"number\",\"True\":\"boolean\"} \n",
    "\n",
    "d1[\"True\"] #output is boolean "
   ]
  },
  {
   "cell_type": "code",
   "execution_count": 46,
   "id": "aea2931f-ef79-4ee7-a4ce-a83bd1b9dd31",
   "metadata": {},
   "outputs": [
    {
     "data": {
      "text/plain": [
       "{'a': 'letter', 1: 'number'}"
      ]
     },
     "execution_count": 46,
     "metadata": {},
     "output_type": "execute_result"
    }
   ],
   "source": [
    "del d1[\"True\"]  \n",
    "\n",
    "d1 #output is {“a”:”letter”,1:”number”} "
   ]
  },
  {
   "cell_type": "code",
   "execution_count": 49,
   "id": "92ad2c46-fe82-4301-8178-97b17e981a56",
   "metadata": {},
   "outputs": [
    {
     "data": {
      "text/plain": [
       "True"
      ]
     },
     "execution_count": 49,
     "metadata": {},
     "output_type": "execute_result"
    }
   ],
   "source": [
    "1 in d1"
   ]
  },
  {
   "cell_type": "code",
   "execution_count": 50,
   "id": "e19116b5-65dd-4496-8127-f50895baad08",
   "metadata": {},
   "outputs": [
    {
     "name": "stdout",
     "output_type": "stream",
     "text": [
      "dict_keys(['a', 1])\n",
      "dict_values(['letter', 'number'])\n"
     ]
    }
   ],
   "source": [
    "print(d1.keys()) #prints all the keys \n",
    "\n",
    "print(d1.values()) #prints all the values "
   ]
  },
  {
   "cell_type": "code",
   "execution_count": 52,
   "id": "0747fbe9-e15b-4a86-8870-069eadff08a8",
   "metadata": {},
   "outputs": [
    {
     "data": {
      "text/plain": [
       "{1: 'one', 2: 'two', 3: 'three', 4: 'four', 5: 'five'}"
      ]
     },
     "execution_count": 52,
     "metadata": {},
     "output_type": "execute_result"
    }
   ],
   "source": [
    "d2={1:\"one\",2:\"two\",3:\"three\",4:\"four\"} \n",
    "\n",
    "d2[5]=\"five\"  \n",
    "\n",
    "d2  #output is {1:”one”,2:”two”,3:”three”,4:”four”,5:”five”} "
   ]
  },
  {
   "cell_type": "code",
   "execution_count": 53,
   "id": "d447d646-ed42-4e38-885c-b9d7f66b160a",
   "metadata": {},
   "outputs": [
    {
     "name": "stdout",
     "output_type": "stream",
     "text": [
      "{1, 2, 3, 4, 5, 6}\n",
      "set()\n"
     ]
    }
   ],
   "source": [
    "set1={1,2,3} \n",
    "set2={4,5,6} \n",
    "print(set1.union(set2)) #output is {1,2,3,4,5,6} \n",
    "print(set1.intersection(set2))  #output is {}"
   ]
  },
  {
   "cell_type": "code",
   "execution_count": 54,
   "id": "8947bd12-7b1e-48c0-846e-ecd3691fe726",
   "metadata": {},
   "outputs": [
    {
     "name": "stdout",
     "output_type": "stream",
     "text": [
      "False\n"
     ]
    }
   ],
   "source": [
    "set3={0,1,3} \n",
    "print(set3.issubset(set1)) #output is False as 0 isnt present is set1"
   ]
  },
  {
   "cell_type": "code",
   "execution_count": 55,
   "id": "998e3794-2a31-44a3-9555-f3e19a7b78be",
   "metadata": {},
   "outputs": [
    {
     "data": {
      "text/plain": [
       "True"
      ]
     },
     "execution_count": 55,
     "metadata": {},
     "output_type": "execute_result"
    }
   ],
   "source": [
    "0 in set3 #output is True "
   ]
  },
  {
   "cell_type": "code",
   "execution_count": 56,
   "id": "9aecbff7-7c27-4f01-8e2f-cdfa2a7ddd82",
   "metadata": {},
   "outputs": [
    {
     "name": "stdout",
     "output_type": "stream",
     "text": [
      "red 0\n",
      "yellow 1\n",
      "green 2\n"
     ]
    }
   ],
   "source": [
    "squares=[\"red\",\"yellow\",\"green\"] \n",
    "\n",
    "for i,square in enumerate(squares): #the indentation is imp as it helps us denote  #that particular block is under loop \n",
    "                         print(square,i) #output will be 0,red 1,yellow and 2,green "
   ]
  },
  {
   "cell_type": "code",
   "execution_count": null,
   "id": "dcc590e9-b6f9-4659-abb5-f6a6cae8ceff",
   "metadata": {},
   "outputs": [],
   "source": [
    "colors=[\"red\",\"blue\",\"red\",\"orange\",\"orange\",\"green\",\"yellow\"] \n",
    "color=[] \n",
    "\n",
    "for c in colors: \n",
    "        if c==\"orange\": \n",
    "                 color.append(c) #output will be [“orange”,”orange”] \n",
    "color"
   ]
  },
  {
   "cell_type": "code",
   "execution_count": null,
   "id": "5f102edb-ecd6-4ea7-b56f-718d3a08551a",
   "metadata": {},
   "outputs": [],
   "source": [
    "colors=[\"red\",\"blue\",\"red\",\"orange\",\"orange\",\"green\",\"yellow\"] \n",
    "color=[]\n",
    "i=0\n",
    "while(i<len(colors)): \n",
    "    if (colors[i]==\"orange\"):\n",
    "        color.append(colors[i]) #same output\n",
    "        i+=1\n",
    "color"
   ]
  },
  {
   "cell_type": "code",
   "execution_count": null,
   "id": "aeaf6dfb-5ddd-4c3c-89e5-65fddbd01647",
   "metadata": {},
   "outputs": [],
   "source": []
  }
 ],
 "metadata": {
  "kernelspec": {
   "display_name": "Python 3 (ipykernel)",
   "language": "python",
   "name": "python3"
  },
  "language_info": {
   "codemirror_mode": {
    "name": "ipython",
    "version": 3
   },
   "file_extension": ".py",
   "mimetype": "text/x-python",
   "name": "python",
   "nbconvert_exporter": "python",
   "pygments_lexer": "ipython3",
   "version": "3.12.7"
  }
 },
 "nbformat": 4,
 "nbformat_minor": 5
}
